{
 "cells": [
  {
   "cell_type": "code",
   "execution_count": null,
   "id": "492adcba-c796-47a9-b7a4-78ace0bed583",
   "metadata": {},
   "outputs": [],
   "source": [
    "import pandas as pd\n",
    "import numpy as np\n",
    "import matplotlib.pyplot as plt\n",
    "import os\n",
    "from datetime import datetime, time, timedelta\n",
    "from sklearn.metrics import mean_squared_error\n",
    "from scipy.integrate import simpson\n",
    "from numpy import unravel_index\n",
    "import pvlib\n",
    "import sys\n",
    "%run PV_Power_Function.ipynb import PV_Power"
   ]
  },
  {
   "cell_type": "code",
   "execution_count": null,
   "id": "50f1da52-616a-4455-83ec-69ce759af585",
   "metadata": {},
   "outputs": [],
   "source": [
    "Weather_and_PV_Data = pd.read_excel('C:\\\\Users\\\\Lenovo\\\\OneDrive - Ashesi University\\\\Desktop\\\\Master Thesis\\\\Energy_prod_data/Complete_data.xlsx')\n",
    "Weather_and_PV_Data.head(5)"
   ]
  },
  {
   "cell_type": "code",
   "execution_count": null,
   "id": "66dcbc0b-9c9b-456f-b931-c8089c53f3da",
   "metadata": {},
   "outputs": [],
   "source": [
    "year, month, day = Weather_and_PV_Data['Datetime'].dt.year, Weather_and_PV_Data['Datetime'].dt.month, Weather_and_PV_Data['Datetime'].dt.day\n",
    "Weather_and_PV_Data[['Year', 'Month', 'Day']] = pd.DataFrame({'Year': year, \n",
    "                                                             'Month': month,\n",
    "                                                             'Day': day})\n",
    "\n",
    "\n",
    "Weather_and_PV_Data['Date'] = pd.to_datetime(Weather_and_PV_Data[['Year', 'Month', 'Day']])\n",
    "\n",
    "Weather_and_PV_Data['Time'] = Weather_and_PV_Data['Datetime'].dt.strftime('%H:%M:%S')"
   ]
  },
  {
   "cell_type": "code",
   "execution_count": null,
   "id": "1a5b6674-05fb-46ac-b646-eae479c18ce9",
   "metadata": {},
   "outputs": [],
   "source": [
    "Weather_and_PV_Data.drop(columns=['Year', 'Month', 'Day'], axis = 1, inplace = True)\n",
    "Weather_and_PV_Data.head(5)"
   ]
  },
  {
   "cell_type": "code",
   "execution_count": null,
   "id": "f88d5af4-1964-49ae-b0b5-4894c5ad887f",
   "metadata": {},
   "outputs": [],
   "source": [
    "Weather_and_PV_Data['DayOfYear'] = Weather_and_PV_Data['Datetime'].dt.dayofyear\n",
    "Weather_and_PV_Data['HourOfDay'] = Weather_and_PV_Data['Datetime'].dt.hour\n",
    "cols = ['Datetime', 'Date', 'Time', 'DayOfYear', 'HourOfDay', 'GHI ALL SKY', 'CLEAR SKY', 'DNI', 'DHI', 'T2M WET', 'T2M', 'WS10M', 'Internal_Production']\n",
    "Weather_and_PV_Data = Weather_and_PV_Data[cols]\n",
    "Weather_and_PV_Data.head(5)"
   ]
  },
  {
   "cell_type": "markdown",
   "id": "698d150a-e167-4ea7-9352-5e4b0b096906",
   "metadata": {},
   "source": [
    "## Modelling Production of the Engineering Section"
   ]
  },
  {
   "cell_type": "code",
   "execution_count": null,
   "id": "5c78a689-95bd-4a9a-a3f7-3977243be86f",
   "metadata": {},
   "outputs": [],
   "source": [
    "Engineering_Building_panels_azimuth = np.array([253.57, 75.22, 294.17, 111.85, 343, 159.21])\n",
    "Rated_Array_Power_per_azimuth = np.array([25*270, 32*270, 60*270, 81*270, 12*270, 28*270])\n",
    "\n",
    "Day_oftheYear = np.array(Weather_and_PV_Data['DayOfYear'])\n",
    "Hour_oftheDay = np.array(Weather_and_PV_Data['HourOfDay'])\n",
    "GHI_Irradiance = np.array(Weather_and_PV_Data['GHI ALL SKY'])\n",
    "DNI_ = np.array(Weather_and_PV_Data['DNI'])\n",
    "DHI_ = np.array(Weather_and_PV_Data['DHI'])\n",
    "Ambient_Temp = np.array(Weather_and_PV_Data['T2M'])\n",
    "Wind_Speed = np.array(Weather_and_PV_Data['WS10M'])\n",
    "Location_lat = 5.7603\n",
    "Engineering_Building_tilt_angle = 15\n",
    "\n",
    "Total_Power_Production_KW = np.empty((len(GHI_Irradiance)))\n",
    "Power_Production_in_azimuth_directions = np.empty((len(GHI_Irradiance), len(Engineering_Building_panels_azimuth)))\n",
    "Irradiance_in_azimuth_directions = np.empty((len(GHI_Irradiance), len(Engineering_Building_panels_azimuth)))\n",
    "Temperature_in_azimuth_directions = np.empty((len(GHI_Irradiance), len(Engineering_Building_panels_azimuth)))\n",
    "\n",
    "\n",
    "Installed_PV_Actual_Production_AC = np.array(Weather_and_PV_Data['Internal_Production'])\n",
    "Datetimes = np.array(Weather_and_PV_Data['Datetime'])"
   ]
  },
  {
   "cell_type": "code",
   "execution_count": null,
   "id": "fbaba58e-4d0b-4b80-8b47-1cf18dbd1795",
   "metadata": {},
   "outputs": [],
   "source": [
    "Power_OutputArrray_per_azimuth = [0,0,0,0,0,0]\n",
    "for index1, (day, hour, irradiance, DNI, DHI, temperature, windspeed) in enumerate(zip(Day_oftheYear, Hour_oftheDay, GHI_Irradiance, DNI_, DHI_, Ambient_Temp, Wind_Speed)):\n",
    "    for index2, (Azimuth, STCpower) in enumerate(zip(Engineering_Building_panels_azimuth, Rated_Array_Power_per_azimuth)):\n",
    "        Power_OutputArrray_per_azimuth[index2] = PV_Power(hour, day, Location_lat, Engineering_Building_tilt_angle, Azimuth, irradiance, DNI, DHI, STCpower, temperature, windspeed)\n",
    "        \n",
    "        Power_Production_in_azimuth_directions[index1, index2] = Power_OutputArrray_per_azimuth[index2][0]\n",
    "        Irradiance_in_azimuth_directions[index1, index2] = Power_OutputArrray_per_azimuth[index2][1]\n",
    "        Temperature_in_azimuth_directions[index1, index2] = Power_OutputArrray_per_azimuth[index2][2]\n",
    "    \n",
    "     SumOutput1 = 0 \n",
    "     for i, j, k in Power_OutputArrray_per_azimuth:\n",
    "         SumOutput1 += np.sum(i)"
   ]
  },
  {
   "cell_type": "code",
   "execution_count": null,
   "id": "60204620-3b15-4e49-9079-13c764f6c3d9",
   "metadata": {},
   "outputs": [],
   "source": []
  },
  {
   "cell_type": "markdown",
   "id": "48b6c848-fc61-414a-8481-6f694b496bfb",
   "metadata": {},
   "source": [
    "### Visualization of DC/AC Power Output from the Model and Comparing with the Actual Production @ the Engineering Section"
   ]
  },
  {
   "cell_type": "code",
   "execution_count": null,
   "id": "96f22546-ff79-4470-8e17-335a4dcf4331",
   "metadata": {},
   "outputs": [],
   "source": [
    "Model_Production_DC_Dataframe = pd.DataFrame({'Model PV_DC_Power': Total_Power_Production_KW})\n",
    "Actual_Production_DataFrame = pd.DataFrame({'Datetimes': Datetimes, 'Actual_AC_Power': Installed_PV_Actual_Production_AC})\n",
    "\n",
    "Pdco = 75/0.98\n",
    "Model_AC_Power_KW = np.array(pvlib.inverter.pvwatts(Total_Power_Production_KW, Pdco))\n",
    "Model_Production_AC_Dataframe = pd.DataFrame({'Model PV_AC_Power': Model_AC_Power_KW})\n",
    "\n",
    "Output_Dataframe = pd.concat([Actual_Production_DataFrame, Model_Production_AC_Dataframe, Model_Production_DC_Dataframe], axis = 1)\n"
   ]
  },
  {
   "cell_type": "code",
   "execution_count": null,
   "id": "ffd917d9-e7b8-46ab-a266-2a32a4efc6e1",
   "metadata": {},
   "outputs": [],
   "source": [
    "plt.figure(figsize=(10, 5))\n",
    "plt.plot(Output_Dataframe['Datetimes'][24:300], Output_Dataframe['Actual_AC_Power'][24:300], color='b', label = 'Actual PV Power')\n",
    "plt.plot(Output_Dataframe['Datetimes'][24:300], Output_Dataframe['Model PV_AC_Power'][24:300], color='r', label = 'Modelled PV Power')\n",
    "plt.xlabel('Time (Datetime)')\n",
    "plt.ylabel('Power (KW)')\n",
    "plt.xticks(rotation=90)\n",
    "plt.title('Actual and Modelled PV Power')\n",
    "plt.legend()\n",
    "plt.show()"
   ]
  },
  {
   "cell_type": "code",
   "execution_count": null,
   "id": "bdfcbf9c-3753-4215-8ce8-27e8d154207a",
   "metadata": {},
   "outputs": [],
   "source": [
    "plt.figure(figsize=(10, 5))\n",
    "plt.plot(Output_Dataframe['Datetimes'][24:150], Output_Dataframe['Actual_AC_Power'][24:150], color='b', label = 'Actual PV Power')\n",
    "plt.plot(Output_Dataframe['Datetimes'][24:150], Output_Dataframe['Model PV_AC_Power'][24:150], color='r', label = 'Modelled PV Power')\n",
    "plt.xlabel('Time (Datetime)')\n",
    "plt.ylabel('Power (KW)')\n",
    "plt.xticks(rotation=90)\n",
    "plt.title('Actual and Modelled PV Power')\n",
    "plt.legend()\n",
    "plt.show()"
   ]
  },
  {
   "cell_type": "code",
   "execution_count": null,
   "id": "519919c5-8fa2-437b-bbee-4becea590ecf",
   "metadata": {},
   "outputs": [],
   "source": [
    "Model_total_Energy_DC = np.sum(np.array(Output_Dataframe['Model PV_DC_Power']))\n",
    "#print(f'Total Model DC Energy Output: {round(Model_total_Energy_DC, 2)} KWh')\n",
    "\n",
    "Model_total_Energy_AC = np.sum(np.array(Output_Dataframe['Model PV_AC_Power']))\n",
    "print(f'Total Model AC Energy Output: {round(Model_total_Energy_AC, 2)} KWh')\n",
    "\n",
    "Actual_total_Energy = np.sum(np.array(Output_Dataframe['Actual_AC_Power']))\n",
    "print(f'Total Actual AC Energy Output: {round(Actual_total_Energy, 2)} KWh')\n",
    "print('')\n",
    "print(f'Percent difference between Total Model AC and Actual AC Energy Output: {round(((Model_total_Energy_AC - Actual_total_Energy)/Actual_total_Energy) * 100, 2)}%')\n",
    "print(f'Mean Squared Error: {mean_squared_error(np.array(Output_Dataframe['Actual_AC_Power']), np.array(Output_Dataframe['Model PV_AC_Power']))}')"
   ]
  },
  {
   "cell_type": "markdown",
   "id": "791df142-94b6-4c90-b7b2-f21be8bf43f5",
   "metadata": {},
   "source": [
    "## Preprocessing for Visualization"
   ]
  },
  {
   "cell_type": "code",
   "execution_count": null,
   "id": "7ade9c6b-6961-4d2a-a0e2-003e089c20e2",
   "metadata": {},
   "outputs": [],
   "source": [
    "Month_hours = [720, 744, 144, 576, 720, 744]\n",
    "monthly_actual_energy_output = []\n",
    "monthly_modelled_energy_output_AC = []\n",
    "monthly_modelled_energy_output_DC = []\n",
    "\n",
    "start = 0\n",
    "for hours in Month_hours:\n",
    "    monthly_actual_power_sum = np.sum(np.array(Output_Dataframe['Actual_AC_Power'][start:start + hours]))\n",
    "    monthly_modelled_AC_power_sum = np.sum(np.array(Output_Dataframe['Model PV_AC_Power'][start:start + hours]))\n",
    "    monthly_modelled_DC_power_sum = np.sum(np.array(Output_Dataframe['Model PV_DC_Power'][start:start + hours]))\n",
    "    \n",
    "    monthly_actual_energy_output.append(monthly_actual_power_sum)\n",
    "    monthly_modelled_energy_output_AC.append(monthly_modelled_AC_power_sum)\n",
    "    monthly_modelled_energy_output_DC.append(monthly_modelled_DC_power_sum)\n",
    "    \n",
    "    start += hours"
   ]
  },
  {
   "cell_type": "markdown",
   "id": "76e08bb0-df8b-4e39-81f4-65eadb170f7e",
   "metadata": {},
   "source": [
    "## Visualizations"
   ]
  },
  {
   "cell_type": "code",
   "execution_count": null,
   "id": "eb8d0af6-7f08-492c-9015-d6f301f1543d",
   "metadata": {},
   "outputs": [],
   "source": [
    "x = np.arange(6)\n",
    "Months = ['Nov 2023', 'Dec 2023', 'Jan 2024', 'Mar 2024', 'April 2024', 'May 2024']\n",
    "bar_width = 0.20\n",
    "plt.figure(figsize=(12, 7))\n",
    "\n",
    "plt.bar(x - bar_width, monthly_actual_energy_output, width=bar_width, label='Actual_PV_Production', color='blue')\n",
    "plt.bar(x, monthly_modelled_energy_output_AC, width=bar_width, label='Modelled_PV_Production_AC', color='green')\n",
    "plt.bar(x + bar_width, monthly_modelled_energy_output_DC, width=bar_width, label='Modelled_PV_Production_DC', color='red')\n",
    "\n",
    "plt.xlabel('Months')\n",
    "plt.ylabel('Energy')\n",
    "plt.title('Bar Chart of PV Actual vs Modelled Energy Production')\n",
    "plt.xticks(x, Months)\n",
    "\n",
    "\n",
    "plt.legend()\n",
    "plt.show()"
   ]
  },
  {
   "cell_type": "code",
   "execution_count": null,
   "id": "02ad24f1-e5b8-4696-adf6-65f0ca83ed60",
   "metadata": {},
   "outputs": [],
   "source": [
    "plt.figure(figsize=(10, 7))\n",
    "markers = ['o', 's', '^', '*', 'P', 'X'] \n",
    "labels = [\n",
    "    'Azimuth 1: 253.57°', 'Azimuth 2: 75.22°', 'Azimuth 3: 294.17°', \n",
    "    'Azimuth 4: 111.85°', 'Azimuth 5: 343°', 'Azimuth 6: 159.21°']\n",
    "\n",
    "Num_Panels = np.array([25, 32, 60, 81, 12, 28])\n",
    "\n",
    "for idx in range(6):\n",
    "    scatter = plt.scatter(\n",
    "        Power_Production_in_azimuth_directions[:, idx]/Num_Panels[idx],\n",
    "        Irradiance_in_azimuth_directions[:, idx],\n",
    "        c=Temperature_in_azimuth_directions[:, idx],\n",
    "        cmap='jet',\n",
    "        s=90,\n",
    "        alpha=0.75,\n",
    "        marker=markers[idx],\n",
    "        label=labels[idx])\n",
    "\n",
    "cbar = plt.colorbar(scatter)\n",
    "cbar.set_label('Temperature (°C)')\n",
    "\n",
    "plt.xlabel('Power Production (W)')\n",
    "plt.ylabel('Irradiance (W/m²)')\n",
    "plt.title('Power Production vs. Irradiance Across Azimuth Directions')\n",
    "plt.legend(title=\"Azimuth Directions\")\n",
    "plt.show()"
   ]
  },
  {
   "cell_type": "code",
   "execution_count": null,
   "id": "e8939a37-3779-4f57-83f7-4fccbd707626",
   "metadata": {
    "scrolled": true
   },
   "outputs": [],
   "source": [
    "plt.figure(figsize=(10, 7))\n",
    "markers = ['o', 's', '^', '*', 'P', 'X'] \n",
    "labels = [\n",
    "    'Azimuth 1: 253.57° (25 modules)', 'Azimuth 2: 75.22° (32 modules)', 'Azimuth 3: 294.17° (60 modules)', \n",
    "    'Azimuth 4: 111.85° (81 modules)', 'Azimuth 5: 343° (12 modules)', 'Azimuth 6: 159.21° (28 modules)']\n",
    "\n",
    "\n",
    "for idx in range(6):\n",
    "    scatter = plt.scatter(\n",
    "        Power_Production_in_azimuth_directions[:, idx],\n",
    "        Irradiance_in_azimuth_directions[:, idx],\n",
    "        c=Temperature_in_azimuth_directions[:, idx],\n",
    "        cmap='jet',\n",
    "        s=90,\n",
    "        alpha=0.75,\n",
    "        marker=markers[idx],\n",
    "        label=labels[idx])\n",
    "\n",
    "cbar = plt.colorbar(scatter)\n",
    "cbar.set_label('Temperature (°C)')\n",
    "\n",
    "plt.xlabel('Power Production (W)')\n",
    "plt.ylabel('Irradiance (W/m²)')\n",
    "plt.title('Power Production vs. Irradiance Across Azimuth Directions')\n",
    "plt.legend(title=\"Azimuth Directions\")\n",
    "plt.show()"
   ]
  },
  {
   "cell_type": "code",
   "execution_count": null,
   "id": "adae5ec4-4a03-49e1-aab0-de901f51fbc1",
   "metadata": {},
   "outputs": [],
   "source": [
    "print(f'Azimuth_2_max_POA_irradiance: {max(Irradiance_in_azimuth_directions[:,1])}')\n",
    "print(f'Azimuth_4_max_POA_irradiance: {max(Irradiance_in_azimuth_directions[:,3])}')"
   ]
  },
  {
   "cell_type": "code",
   "execution_count": null,
   "id": "940ff6e4-1e0a-4db5-ba88-e7b11cc4764d",
   "metadata": {},
   "outputs": [],
   "source": []
  },
  {
   "cell_type": "code",
   "execution_count": null,
   "id": "b17ef077-02b4-49da-90a7-d7ef7dbaad3a",
   "metadata": {},
   "outputs": [],
   "source": [
    "One_year_data = pd.read_excel('C:/Users/Lenovo/OneDrive - Ashesi University/Desktop/Master Thesis/Energy_prod_data/Full_One_Year_Irradiance_Data.xlsx', engine='openpyxl')\n",
    "One_year_data.head(3)"
   ]
  },
  {
   "cell_type": "code",
   "execution_count": null,
   "id": "c1f4ca4a-9745-4380-ae7f-475f54d65330",
   "metadata": {},
   "outputs": [],
   "source": [
    "Day = np.array(One_year_data['Datetime'].dt.dayofyear)\n",
    "Hour = np.array(One_year_data['Datetime'].dt.hour)\n",
    "One_year_GHI_Irradiance = np.array(One_year_data['GHI'])\n",
    "DNI__ = np.array(One_year_data['DNI'])\n",
    "DHI__ = np.array(One_year_data['DHI'])\n",
    "Ambient_Temperature = np.array(One_year_data['Temp'])\n",
    "WindSpeed = np.array(One_year_data['WS10M'])"
   ]
  },
  {
   "cell_type": "code",
   "execution_count": null,
   "id": "5104719c-3eaf-4151-9e08-1230b5a4676f",
   "metadata": {},
   "outputs": [],
   "source": [
    "Simulation_Azimuth_angles = np.arange(90, 270, 2)\n",
    "Simulation_tilt_angles = np.arange(0, 90, 2)\n",
    "Simulation_STC_Power = 270"
   ]
  },
  {
   "cell_type": "code",
   "execution_count": null,
   "id": "9ee385a2-c30b-4870-8a4f-d3a969691d5c",
   "metadata": {},
   "outputs": [],
   "source": [
    "Output_Array = [0]*len(Simulation_Azimuth_angles)\n",
    "Power_Array = np.empty((len(One_year_GHI_Irradiance), len(Simulation_Azimuth_angles)))\n",
    "Irradiance_Array = np.empty((len(One_year_GHI_Irradiance), len(Simulation_Azimuth_angles)))\n",
    "Cell_Temp_Array = np.empty((len(One_year_GHI_Irradiance), len(Simulation_Azimuth_angles)))\n",
    "\n",
    "MaxPower_in_optimal_tilt_azimuth = np.zeros((len(Simulation_tilt_angles), len(Simulation_Azimuth_angles)))\n",
    "\n",
    "\n",
    "for i, Simulation_tilt_angle in enumerate(Simulation_tilt_angles):\n",
    "    for index_1, (day, hour, irradiance, DNI, DHI, temperature, windspeed) in enumerate(zip(Day, Hour, One_year_GHI_Irradiance, DNI__, DHI__, Ambient_Temperature, WindSpeed)):\n",
    "        for index_2, Azimuth_angle in enumerate(Simulation_Azimuth_angles):\n",
    "            Output_Array[index_2] = PV_Power(hour, day, Location_lat, Simulation_tilt_angle, Azimuth_angle, irradiance, DNI, DHI, Simulation_STC_Power, temperature, windspeed)\n",
    "            \n",
    "            Power_Array[index_1, index_2] = Output_Array[index_2][0]\n",
    "            Irradiance_Array[index_1, index_2] = Output_Array[index_2][1]\n",
    "            Cell_Temp_Array[index_1, index_2] = Output_Array[index_2][2]\n",
    "    \n",
    "        MaxPower_in_optimal_tilt_azimuth[i, :] = Power_Array.sum(axis = 0)"
   ]
  },
  {
   "cell_type": "code",
   "execution_count": null,
   "id": "7ef133ac-84dc-486e-b6ee-10247196b48c",
   "metadata": {},
   "outputs": [],
   "source": [
    "optimal_tilt_azimuth_index = unravel_index(MaxPower_in_optimal_tilt_azimuth.argmax(), MaxPower_in_optimal_tilt_azimuth.shape)\n",
    "print(f'Optimal tilt angle is {Simulation_tilt_angles[optimal_tilt_azimuth_index[0]]}')\n",
    "print('')\n",
    "print(f'Optimal azimuth angle is {Simulation_Azimuth_angles[optimal_tilt_azimuth_index[1]]}')"
   ]
  },
  {
   "cell_type": "code",
   "execution_count": null,
   "id": "5f2c4a07-2274-49fb-bbb1-eb351fa0f9fe",
   "metadata": {},
   "outputs": [],
   "source": [
    "\n",
    "cmap = plt.colormaps[\"hsv\"]\n",
    "colors = cmap(np.linspace(0, 1, len(Simulation_Azimuth_angles)))\n",
    "\n",
    "plt.figure(figsize=(15, 10))\n",
    "\n",
    "labels = [f\"Azimuth {(Simulation_Azimuth_angles[i])}\" for i in range(len(Simulation_Azimuth_angles))]\n",
    "# Loop through each index\n",
    "for idx in range(len(Simulation_Azimuth_angles)):\n",
    "    scatter = plt.scatter(\n",
    "        Power_Array[:, idx],\n",
    "        Irradiance_Array[:, idx],\n",
    "        c=[colors[idx]],  \n",
    "        s=90,\n",
    "        alpha=0.75,\n",
    "        label=labels[idx])\n",
    "\n",
    "plt.xlabel('Power Production (W)')\n",
    "plt.ylabel('Irradiance (W/m²)')\n",
    "plt.title('Power Production vs. Irradiance Across Azimuth Directions')\n",
    "\n",
    "# Legend with all 60 labels\n",
    "plt.legend(title=\"Azimuth Directions\", bbox_to_anchor=(1.05, 1), loc='upper left', fontsize='small', ncol=2)\n",
    "#plt.tight_layout()\n",
    "\n",
    "# Show plot\n",
    "plt.show()\n"
   ]
  },
  {
   "cell_type": "code",
   "execution_count": null,
   "id": "2dc258c6-f06d-4a29-907e-b4924de3d750",
   "metadata": {},
   "outputs": [],
   "source": [
    "cmap = plt.colormaps[\"hsv\"]\n",
    "colors = cmap(np.linspace(0, 1, len(Simulation_Azimuth_angles)))\n",
    "\n",
    "plt.figure(figsize=(15, 10))\n",
    "\n",
    "labels = [f\"Azimuth {(Simulation_Azimuth_angles[i])}\" for i in range(len(Simulation_Azimuth_angles))]\n",
    "# Loop through each index\n",
    "for idx in range(len(Simulation_Azimuth_angles)):\n",
    "    scatter = plt.scatter(\n",
    "        sum(Power_Array[:, idx]/1000),\n",
    "        sum(Irradiance_Array[:, idx]/1000),\n",
    "        c=[colors[idx]],  \n",
    "        s=90,\n",
    "        alpha=0.75,\n",
    "        label=labels[idx])\n",
    "\n",
    "plt.xlabel('Power Production (KW)')\n",
    "plt.ylabel('Irradiance (KW/m²)')\n",
    "plt.title('Total Power Production vs. Total Irradiance Across Azimuth Directions')\n",
    "\n",
    "# Legend with all 60 labels\n",
    "plt.legend(title=\"Azimuth Directions\", bbox_to_anchor=(1.05, 1), loc='upper left', fontsize='small', ncol=2)\n",
    "#plt.tight_layout()\n",
    "\n",
    "# Show plot\n",
    "plt.show()"
   ]
  },
  {
   "cell_type": "code",
   "execution_count": null,
   "id": "b74deb09-7d48-41e7-a470-c00019a5f02e",
   "metadata": {},
   "outputs": [],
   "source": [
    "Total_Power_Array = []\n",
    "for idx in range(len(Simulation_Azimuth_angles)):\n",
    "    Total_Power_Array.append(np.sum(Power_Array[:,idx]))\n",
    "\n",
    "for index, value in enumerate(Total_Power_Array):\n",
    "    if value == np.max(Total_Power_Array):\n",
    "        print(f'Max Total Energy Value: {round(value, 2)/1000} KWh ')\n",
    "        print(f'Angle Corresponding to Max Total Energy Value: {Simulation_Azimuth_angles[index]} degrees')"
   ]
  },
  {
   "cell_type": "code",
   "execution_count": null,
   "id": "1e871694-355d-4395-9423-824ab467489c",
   "metadata": {},
   "outputs": [],
   "source": []
  },
  {
   "cell_type": "markdown",
   "id": "0eacc79f-7b3c-421c-8cdd-42f0cc0dfe2b",
   "metadata": {
    "scrolled": true
   },
   "source": [
    "##### "
   ]
  }
 ],
 "metadata": {
  "kernelspec": {
   "display_name": "Python 3 (ipykernel)",
   "language": "python",
   "name": "python3"
  },
  "language_info": {
   "codemirror_mode": {
    "name": "ipython",
    "version": 3
   },
   "file_extension": ".py",
   "mimetype": "text/x-python",
   "name": "python",
   "nbconvert_exporter": "python",
   "pygments_lexer": "ipython3",
   "version": "3.12.3"
  }
 },
 "nbformat": 4,
 "nbformat_minor": 5
}
